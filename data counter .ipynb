{
 "cells": [
  {
   "cell_type": "code",
   "execution_count": 4,
   "id": "f96445e0-14ea-47c7-9791-d7500a75ffda",
   "metadata": {},
   "outputs": [
    {
     "name": "stdout",
     "output_type": "stream",
     "text": [
      "Train Images: 4955\n",
      "Train Annotations: 11577\n",
      "Validation Images: 1014\n",
      "Validation Annotations: 2028\n"
     ]
    }
   ],
   "source": [
    "##This code has been written to show how many images, and annotations were used to train the custom Yolo model\n",
    "#All of the data was taken from the 'IDD_Detection' Dataset.\n",
    "import os\n",
    "\n",
    "def count_files(train_images_path, train_annotations_path, validation_images_path, validation_annotations_path):\n",
    "    def count_files_in_directory(directory_path):\n",
    "        if os.path.exists(directory_path) and os.path.isdir(directory_path):\n",
    "            return len([f for f in os.listdir(directory_path) if os.path.isfile(os.path.join(directory_path, f))])\n",
    "        return 0\n",
    "\n",
    "    counts = {\n",
    "        'train_images': count_files_in_directory(train_images_path),\n",
    "        'train_annotations': count_files_in_directory(train_annotations_path),\n",
    "        'validation_images': count_files_in_directory(validation_images_path),\n",
    "        'validation_annotations': count_files_in_directory(validation_annotations_path)\n",
    "    }\n",
    "\n",
    "    return counts\n",
    "\n",
    "# Example usage:\n",
    "train_images_path = 'data/images/train'\n",
    "train_annotations_path = 'data/labels/train'\n",
    "validation_images_path = 'data/images/val'\n",
    "validation_annotations_path = 'data/labels/val'\n",
    "\n",
    "counts = count_files(train_images_path, train_annotations_path, validation_images_path, validation_annotations_path)\n",
    "print(f\"Train Images: {counts['train_images']}\")\n",
    "print(f\"Train Annotations: {counts['train_annotations']}\")\n",
    "print(f\"Validation Images: {counts['validation_images']}\")\n",
    "print(f\"Validation Annotations: {counts['validation_annotations']}\")\n"
   ]
  },
  {
   "cell_type": "code",
   "execution_count": null,
   "id": "38b1ac82-0aa3-45c1-9fd8-2431a5762048",
   "metadata": {},
   "outputs": [],
   "source": []
  }
 ],
 "metadata": {
  "kernelspec": {
   "display_name": "Python 3 (ipykernel)",
   "language": "python",
   "name": "python3"
  },
  "language_info": {
   "codemirror_mode": {
    "name": "ipython",
    "version": 3
   },
   "file_extension": ".py",
   "mimetype": "text/x-python",
   "name": "python",
   "nbconvert_exporter": "python",
   "pygments_lexer": "ipython3",
   "version": "3.8.19"
  }
 },
 "nbformat": 4,
 "nbformat_minor": 5
}
